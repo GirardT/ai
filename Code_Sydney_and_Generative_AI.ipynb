{
  "nbformat": 4,
  "nbformat_minor": 0,
  "metadata": {
    "colab": {
      "provenance": [],
      "gpuType": "V28",
      "authorship_tag": "ABX9TyMCTh3ZYvlo+nKsUSd+bFdn",
      "include_colab_link": true
    },
    "kernelspec": {
      "name": "python3",
      "display_name": "Python 3"
    },
    "language_info": {
      "name": "python"
    },
    "accelerator": "TPU"
  },
  "cells": [
    {
      "cell_type": "markdown",
      "metadata": {
        "id": "view-in-github",
        "colab_type": "text"
      },
      "source": [
        "<a href=\"https://colab.research.google.com/github/GirardT/ai/blob/main/Code_Sydney_and_Generative_AI.ipynb\" target=\"_parent\"><img src=\"https://colab.research.google.com/assets/colab-badge.svg\" alt=\"Open In Colab\"/></a>"
      ]
    },
    {
      "cell_type": "markdown",
      "source": [],
      "metadata": {
        "id": "4qOZRAjUQacD"
      }
    },
    {
      "cell_type": "markdown",
      "source": [
        "# Code.Sydney and Generative AI"
      ],
      "metadata": {
        "id": "nNKbw6vWObyg"
      }
    },
    {
      "cell_type": "markdown",
      "source": [
        "## Module 1 - Fundamentals\n",
        "\n",
        "Install Pyenv, create and activate a virtual environment for Python 3.12"
      ],
      "metadata": {
        "id": "tPcMw42-Pwbe"
      }
    },
    {
      "cell_type": "code",
      "source": [
        "!python --version"
      ],
      "metadata": {
        "id": "VVoCsCnPKR6R"
      },
      "execution_count": null,
      "outputs": []
    },
    {
      "cell_type": "code",
      "source": [
        "!apt-get update -y\n",
        "!apt-get install -y make build-essential libssl-dev zlib1g-dev libbz2-dev libreadline-dev libsqlite3-dev wget curl llvm libncurses5-dev libncursesw5-dev xz-utils tk-dev libffi-dev liblzma-dev git"
      ],
      "metadata": {
        "id": "bf50dWXBMm7u"
      },
      "execution_count": null,
      "outputs": []
    },
    {
      "cell_type": "code",
      "source": [
        "!curl https://pyenv.run | bash"
      ],
      "metadata": {
        "id": "71oAAFEZNpsh"
      },
      "execution_count": null,
      "outputs": []
    },
    {
      "cell_type": "code",
      "source": [
        "import os\n",
        "\n",
        "home = os.path.expanduser(\"~\")\n",
        "pyenv_path = f\"{home}/.pyenv\"\n",
        "os.environ[\"PYENV_ROOT\"] = pyenv_path\n",
        "os.environ[\"PATH\"] = f\"{pyenv_path}/bin:{pyenv_path}/shims:\" + os.environ[\"PATH\"]"
      ],
      "metadata": {
        "id": "SDXPYLJMN9q3"
      },
      "execution_count": null,
      "outputs": []
    },
    {
      "cell_type": "code",
      "source": [
        "!pyenv init --\n",
        "!pyenv virtualenv-init -"
      ],
      "metadata": {
        "id": "WxGeRwBnOBE0"
      },
      "execution_count": null,
      "outputs": []
    },
    {
      "cell_type": "code",
      "source": [
        "!pyenv install 3.12.2"
      ],
      "metadata": {
        "id": "2VyZ-OLLOEvc"
      },
      "execution_count": null,
      "outputs": []
    },
    {
      "cell_type": "code",
      "source": [
        "!pyenv global 3.12.2"
      ],
      "metadata": {
        "id": "g5j-BpoNONcV"
      },
      "execution_count": null,
      "outputs": []
    },
    {
      "cell_type": "code",
      "source": [
        "!python --version"
      ],
      "metadata": {
        "id": "HetWk6BhOQbz"
      },
      "execution_count": null,
      "outputs": []
    }
  ]
}
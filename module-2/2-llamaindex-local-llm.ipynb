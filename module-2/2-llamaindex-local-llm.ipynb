{
 "cells": [
  {
   "cell_type": "code",
   "execution_count": 1,
   "metadata": {},
   "outputs": [
    {
     "name": "stdout",
     "output_type": "stream",
     "text": [
      "Python 3.12.2\n"
     ]
    }
   ],
   "source": [
    "! python --version"
   ]
  },
  {
   "cell_type": "code",
   "execution_count": 2,
   "metadata": {},
   "outputs": [],
   "source": [
    "%%capture\n",
    "! pip install llama-index-core llama-index llama-index-llms-lmstudio"
   ]
  },
  {
   "cell_type": "code",
   "execution_count": 3,
   "metadata": {},
   "outputs": [],
   "source": [
    "import nest_asyncio\n",
    "\n",
    "nest_asyncio.apply()"
   ]
  },
  {
   "cell_type": "code",
   "execution_count": 5,
   "metadata": {},
   "outputs": [
    {
     "name": "stdout",
     "output_type": "stream",
     "text": [
      "A simple but great question!\n",
      "\n",
      "The answer is... 4!\n"
     ]
    }
   ],
   "source": [
    "from llama_index.llms.lmstudio import LMStudio\n",
    "from llama_index.core.base.llms.types import ChatMessage, MessageRole\n",
    "\n",
    "llm = LMStudio(\n",
    "    model_name=\"lmstudio-community/Meta-Llama-3-8B-Instruct-GGUF\",\n",
    "    base_url=\"http://localhost:1234/v1\",\n",
    "    temperature=0,\n",
    "    # request_timeout=100, ## set this parameter to increase request time out if you're getting a 'request timed out' error\n",
    ")\n",
    "\n",
    "response = llm.complete(\"Hey there, what is 2+2?\")\n",
    "print(str(response))\n"
   ]
  },
  {
   "cell_type": "code",
   "execution_count": 6,
   "metadata": {},
   "outputs": [
    {
     "name": "stdout",
     "output_type": "stream",
     "text": [
      "The answer to 7+3 is 10."
     ]
    }
   ],
   "source": [
    "# use llm.stream_complete\n",
    "response = llm.stream_complete(\"What is 7+3?\")\n",
    "for r in response:\n",
    "    print(r.delta, end=\"\")\n",
    "    \n"
   ]
  },
  {
   "cell_type": "code",
   "execution_count": 7,
   "metadata": {},
   "outputs": [
    {
     "name": "stdout",
     "output_type": "stream",
     "text": [
      "assistant: The number 42! It's a fascinating topic, and there are several reasons why it holds significant importance in various fields.\n",
      "\n",
      "In mathematics:\n",
      "\n",
      "* In number theory, 42 is often referred to as \"the answer\" due to its appearance in Douglas Adams' science fiction series \"The Hitchhiker's Guide to the Galaxy.\" The book describes 42 as the \"Answer to the Ultimate Question of Life, the Universe, and Everything.\"\n",
      "* 42 is also a abundant number, meaning that the sum of its proper divisors (excluding the number itself) adds up to more than the number.\n",
      "* In geometry, 42 is a significant number in the study of polyhedra, as it's the number of edges on a dodecahedron.\n",
      "\n",
      "In science:\n",
      "\n",
      "* The Large Hadron Collider (LHC) at CERN was initially designed to collide protons at an energy of 1.18 trillion electronvolts (TeV), but due to technical difficulties, the collisions began at 3.5 TeV, which is approximately equal to 42 GeV.\n",
      "* In astronomy, the Hubble Space Telescope has observed a galaxy named UDFj-42056583, also known as GN-z11, which is estimated to be around 13.4 billion light-years away from Earth – making it the most distant object ever observed, with a redshift of approximately 42.\n",
      "\n",
      "In culture:\n",
      "\n",
      "* Douglas Adams' book \"The Hitchhiker's Guide to the Galaxy\" has made 42 an iconic number in popular culture, symbolizing the search for answers to life's biggest questions.\n",
      "* The movie \"The Hitchhiker's Guide to the Galaxy\" (2005) features a scene where the characters try to find the answer to the ultimate question of life, the universe, and everything, which is revealed to be 42.\n",
      "\n",
      "In summary, the number 42 holds significant importance in various fields due to its mathematical properties, scientific significance, and cultural relevance. Whether you're searching for the meaning of life or just interested in the quirks of mathematics, 42 is a fascinating number that has captured the imagination of many people around the world!\n"
     ]
    }
   ],
   "source": [
    "messages = [\n",
    "    ChatMessage(\n",
    "        role=MessageRole.SYSTEM,\n",
    "        content=\"You an expert AI assistant. Help User with their queries.\",\n",
    "    ),\n",
    "    ChatMessage(\n",
    "        role=MessageRole.USER,\n",
    "        content=\"What is the significance of the number 42?\",\n",
    "    ),\n",
    "]\n",
    "\n",
    "response = llm.chat(messages=messages)\n",
    "print(str(response))"
   ]
  },
  {
   "cell_type": "code",
   "execution_count": 8,
   "metadata": {},
   "outputs": [
    {
     "name": "stdout",
     "output_type": "stream",
     "text": [
      "The number 42!\n",
      "\n",
      "The significance of the number 42 has been debated and explored in various domains, including science, philosophy, humor, and pop culture. Here are some examples:\n",
      "\n",
      "1. **The Answer to Life's Big Questions**: In Douglas Adams' science fiction series \"The Hitchhiker's Guide to the Galaxy,\" 42 is the \"Answer to the Ultimate Question of Life, the Universe, and Everything.\" This humorous take on the search for meaning has become a cultural phenomenon.\n",
      "2. **Mathematics and Computer Science**: The number 42 appears in various mathematical and computational contexts:\n",
      "\t* In binary code, 42 corresponds to the hexadecimal value \"2a.\"\n",
      "\t* It's the sum of the first 11 prime numbers (2 + 3 + ... + 23).\n",
      "\t* In cryptography, 42 is used as a seed value for generating random numbers.\n",
      "3. **Astronomy and Physics**: The number 42 has appeared in various astronomical and physical contexts:\n",
      "\t* The orbital period of the exoplanet Kepler-42b (a planet orbiting a star other than our Sun).\n",
      "\t* In particle physics, 42 is the number of possible ways to arrange particles in a particular configuration.\n",
      "4. **Philosophy and Metaphysics**: Some philosophers have explored the symbolic significance of 42:\n",
      "\t* It's believed by some to represent the balance between opposites (e.g., yin-yang).\n",
      "\t* In numerology, 42 is considered a master number, symbolizing spiritual awakening and enlightenment.\n",
      "5. **Pop Culture and Humor**: 42 has been referenced in various forms of media:\n",
      "\t* The TV show \"The Big Bang Theory\" features an episode centered around the number 42.\n",
      "\t* The movie \"Forrest Gump\" mentions the number 42 as a significant event in the character's life.\n",
      "\n",
      "In conclusion, while there isn't a single definitive significance of the number 42, it has become a cultural touchstone with multiple references across various domains. Its versatility and quirky charm have cemented its place in popular culture."
     ]
    }
   ],
   "source": [
    "response = llm.stream_chat(messages=messages)\n",
    "for r in response:\n",
    "    print(r.delta, end=\"\")"
   ]
  },
  {
   "cell_type": "code",
   "execution_count": null,
   "metadata": {},
   "outputs": [],
   "source": []
  }
 ],
 "metadata": {
  "kernelspec": {
   "display_name": ".venv",
   "language": "python",
   "name": "python3"
  },
  "language_info": {
   "codemirror_mode": {
    "name": "ipython",
    "version": 3
   },
   "file_extension": ".py",
   "mimetype": "text/x-python",
   "name": "python",
   "nbconvert_exporter": "python",
   "pygments_lexer": "ipython3",
   "version": "3.12.2"
  }
 },
 "nbformat": 4,
 "nbformat_minor": 2
}
